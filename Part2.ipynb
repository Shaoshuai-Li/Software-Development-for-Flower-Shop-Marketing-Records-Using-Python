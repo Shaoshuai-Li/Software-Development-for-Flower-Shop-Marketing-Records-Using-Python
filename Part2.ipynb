{
 "cells": [
  {
   "metadata": {},
   "cell_type": "markdown",
   "source": [
    "# Step 1: Data Crawling\n",
    "In this step, we will scrape data from Reddit using the [Pushshift API](https://github.com/pushshift/api), which allows us to access Reddit posts programmatically. We will extract at least 150 posts from a chosen subreddit (e.g. r/technology), capturing fields such as `id`, `title`, `author`, `score`, `num_comments`, `created_utc`, and `selftext`.\n"
   ],
   "id": "b21401cc0443ae33"
  },
  {
   "metadata": {
    "ExecuteTime": {
     "end_time": "2025-07-20T11:15:54.261574Z",
     "start_time": "2025-07-20T11:15:52.972663Z"
    }
   },
   "cell_type": "code",
   "source": [
    "# Install dependencies (run only if not installed)\n",
    "#!pip install requests pandas\n",
    "\n",
    "import requests\n",
    "import pandas as pd\n",
    "\n",
    "# Parameters\n",
    "subreddit = \"technology\"\n",
    "size = 200  # Number of posts to fetch\n",
    "\n",
    "# Fetch data from Pushshift API (Reddit)\n",
    "url = f\"https://api.pushshift.io/reddit/search/submission/?subreddit={subreddit}&size={size}\"\n",
    "response = requests.get(url)\n",
    "data = response.json()[\"data\"]\n",
    "\n",
    "# Extract relevant columns\n",
    "df = pd.DataFrame(data)\n",
    "columns_of_interest = ['id', 'title', 'author', 'score', 'num_comments', 'created_utc', 'selftext']\n",
    "df = df[columns_of_interest]\n",
    "\n",
    "# Save to CSV\n",
    "df.to_csv(\"reddit_technology_posts.csv\", index=False)\n",
    "print(f\"Data scraped and saved to 'reddit_technology_posts.csv'. Number of rows: {df.shape[0]}\")\n",
    "df.head(3)\n"
   ],
   "id": "63296c44543f5558",
   "outputs": [
    {
     "ename": "ModuleNotFoundError",
     "evalue": "No module named 'pandas'",
     "output_type": "error",
     "traceback": [
      "\u001B[31m---------------------------------------------------------------------------\u001B[39m",
      "\u001B[31mModuleNotFoundError\u001B[39m                       Traceback (most recent call last)",
      "\u001B[36mCell\u001B[39m\u001B[36m \u001B[39m\u001B[32mIn[1]\u001B[39m\u001B[32m, line 5\u001B[39m\n\u001B[32m      1\u001B[39m \u001B[38;5;66;03m# Install dependencies (run only if not installed)\u001B[39;00m\n\u001B[32m      2\u001B[39m \u001B[38;5;66;03m#!pip install requests pandas\u001B[39;00m\n\u001B[32m      4\u001B[39m \u001B[38;5;28;01mimport\u001B[39;00m\u001B[38;5;250m \u001B[39m\u001B[34;01mrequests\u001B[39;00m\n\u001B[32m----> \u001B[39m\u001B[32m5\u001B[39m \u001B[38;5;28;01mimport\u001B[39;00m\u001B[38;5;250m \u001B[39m\u001B[34;01mpandas\u001B[39;00m\u001B[38;5;250m \u001B[39m\u001B[38;5;28;01mas\u001B[39;00m\u001B[38;5;250m \u001B[39m\u001B[34;01mpd\u001B[39;00m\n\u001B[32m      7\u001B[39m \u001B[38;5;66;03m# Parameters\u001B[39;00m\n\u001B[32m      8\u001B[39m subreddit = \u001B[33m\"\u001B[39m\u001B[33mtechnology\u001B[39m\u001B[33m\"\u001B[39m\n",
      "\u001B[31mModuleNotFoundError\u001B[39m: No module named 'pandas'"
     ]
    }
   ],
   "execution_count": 1
  },
  {
   "metadata": {},
   "cell_type": "markdown",
   "source": [
    "## Data Source and Collection\n",
    "- **Source**: [Pushshift Reddit API](https://github.com/pushshift/api), which provides free programmatic access to Reddit posts.\n",
    "- **Variables extracted**:\n",
    "    - `id`: Unique post identifier.\n",
    "    - `title`: The title of the Reddit post.\n",
    "    - `author`: The user who posted.\n",
    "    - `score`: Upvotes minus downvotes.\n",
    "    - `num_comments`: Number of comments.\n",
    "    - `created_utc`: Timestamp of post creation.\n",
    "    - `selftext`: The main text of the post.\n",
    "- **Collection Method**: Data was collected via web API call, returned as JSON and converted to a pandas DataFrame.\n"
   ],
   "id": "fd61b13cfa27915b"
  },
  {
   "metadata": {},
   "cell_type": "markdown",
   "source": [
    "# Step 2: Data Preparation and Cleaning\n",
    "We will now load our CSV, check for missing data, handle outliers or inconsistencies, and enrich our dataset by adding readable date columns and a flag for text length.\n"
   ],
   "id": "d7e9b2b84a0503bf"
  },
  {
   "metadata": {},
   "cell_type": "code",
   "outputs": [],
   "execution_count": null,
   "source": [
    "# Load the dataset\n",
    "df = pd.read_csv(\"reddit_technology_posts.csv\")\n",
    "\n",
    "# Check for missing values\n",
    "print(\"Missing values per column:\")\n",
    "print(df.isnull().sum())\n",
    "\n",
    "# Fill missing selftext with empty string, drop rows with missing critical fields\n",
    "df['selftext'] = df['selftext'].fillna('')\n",
    "df = df.dropna(subset=['id', 'title', 'author', 'score', 'num_comments', 'created_utc'])\n",
    "\n",
    "# Convert created_utc to datetime\n",
    "df['created_utc'] = pd.to_datetime(df['created_utc'], unit='s')\n",
    "\n",
    "# Add a new column: text_length\n",
    "df['text_length'] = df['selftext'].apply(lambda x: len(str(x)))\n",
    "\n",
    "# Remove obvious outliers (e.g., negative scores)\n",
    "df = df[df['score'] >= 0]\n",
    "df = df[df['num_comments'] >= 0]\n",
    "\n",
    "# Show a summary\n",
    "df.describe()\n"
   ],
   "id": "1140dbb506f38f90"
  },
  {
   "metadata": {},
   "cell_type": "markdown",
   "source": [
    "## Data Preparation Steps\n",
    "- **Missing Data**: Filled missing `selftext` with an empty string. Dropped rows with missing critical fields (`id`, `title`, etc.).\n",
    "- **Date Parsing**: Converted the Unix timestamp to a readable datetime.\n",
    "- **Feature Creation**: Added a `text_length` column representing the length of the post's text.\n",
    "- **Outliers**: Removed any rows with negative scores or comment counts, which are not plausible in Reddit data.\n"
   ],
   "id": "a3da57fcd1677968"
  },
  {
   "metadata": {},
   "cell_type": "markdown",
   "source": [
    "# Step 3: Exploratory Data Analysis (EDA)\n",
    "We will examine statistics, distributions, and relationships in our data, visualising where appropriate.\n"
   ],
   "id": "c6e44b6a765c7070"
  },
  {
   "metadata": {},
   "cell_type": "code",
   "outputs": [],
   "execution_count": null,
   "source": [
    "import matplotlib.pyplot as plt\n",
    "\n",
    "# 1. Basic statistics\n",
    "print(\"Mean score:\", df['score'].mean())\n",
    "print(\"Mean comments:\", df['num_comments'].mean())\n",
    "print(\"Text length range:\", df['text_length'].min(), \"-\", df['text_length'].max())\n",
    "\n",
    "# 2. Histograms\n",
    "plt.figure(figsize=(10,4))\n",
    "plt.hist(df['score'], bins=30)\n",
    "plt.title('Distribution of Post Scores')\n",
    "plt.xlabel('Score')\n",
    "plt.ylabel('Frequency')\n",
    "plt.show()\n",
    "\n",
    "plt.figure(figsize=(10,4))\n",
    "plt.hist(df['num_comments'], bins=30)\n",
    "plt.title('Distribution of Number of Comments')\n",
    "plt.xlabel('Number of Comments')\n",
    "plt.ylabel('Frequency')\n",
    "plt.show()\n",
    "\n",
    "plt.figure(figsize=(10,4))\n",
    "plt.hist(df['text_length'], bins=30)\n",
    "plt.title('Distribution of Post Text Length')\n",
    "plt.xlabel('Text Length (characters)')\n",
    "plt.ylabel('Frequency')\n",
    "plt.show()\n",
    "\n",
    "# 3. Relationship between score and comments\n",
    "plt.figure(figsize=(8,6))\n",
    "plt.scatter(df['score'], df['num_comments'], alpha=0.5)\n",
    "plt.title('Score vs. Number of Comments')\n",
    "plt.xlabel('Score')\n",
    "plt.ylabel('Number of Comments')\n",
    "plt.show()\n"
   ],
   "id": "738ee8d66a6d337f"
  }
 ],
 "metadata": {
  "kernelspec": {
   "display_name": "Python 3",
   "language": "python",
   "name": "python3"
  },
  "language_info": {
   "codemirror_mode": {
    "name": "ipython",
    "version": 2
   },
   "file_extension": ".py",
   "mimetype": "text/x-python",
   "name": "python",
   "nbconvert_exporter": "python",
   "pygments_lexer": "ipython2",
   "version": "2.7.6"
  }
 },
 "nbformat": 4,
 "nbformat_minor": 5
}
